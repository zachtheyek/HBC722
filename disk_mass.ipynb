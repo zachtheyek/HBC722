{
 "cells": [
  {
   "cell_type": "markdown",
   "source": [
    "# Introduction\n",
    "\n",
    "FU Orionis objects (hereafter FUors) are a group of pre-main-sequence stars that abruptly increase in brightness by several magnitudes, lasting decades or longer. The FUors’ large amplitude bursts are credited to enhanced mass accretion from the surrounding circumstellar disk, with various triggering mechanisms being proposed over the years, e.g. gravitational and/or magnetorotational instabilities, thermal instabilities, or interactions with binary companions. \n",
    "\n",
    "This notebook uses data from new 1 mm continuum observations of the FUor HBC722, obtained with the Atacama Large Millimeter/Submillimeter Array (ALMA), to calculate its circumstellar disk mass."
   ],
   "metadata": {}
  },
  {
   "cell_type": "markdown",
   "source": [
    "# Import Dependencies\n",
    "\n",
    "We begin by importing the necessary libraries."
   ],
   "metadata": {}
  },
  {
   "cell_type": "code",
   "execution_count": 7,
   "source": [
    "import math\n",
    "import numpy as np\n",
    "from astropy import units as u\n",
    "from astropy.constants import h, k_B, c"
   ],
   "outputs": [],
   "metadata": {}
  },
  {
   "cell_type": "markdown",
   "source": [
    "# Function Definitions\n",
    "\n",
    "Then, we define some functions that will be useful to us later on. Specifically, the Planck function:\n",
    "\n",
    "$$\\begin{equation*}\n",
    "    B(\\nu,\\;T)=\\frac{2h\\nu^3}{c^2}\\frac{1}{e^{\\frac{h\\nu}{k_B T}}-1}\n",
    "\\end{equation*}$$\n",
    "\n",
    "and the total circumstellar disk mass:\n",
    "\n",
    "$$\\begin{equation*}\n",
    "    M=100\\frac{d^2S_\\nu}{B_\\nu(T_D)\\kappa_\\nu\\quad}\n",
    "\\end{equation*}$$"
   ],
   "metadata": {}
  },
  {
   "cell_type": "code",
   "execution_count": 8,
   "source": [
    "# Equation for the Planck function\n",
    "def Planck_function(h, k_B, c, T, nu):\n",
    "  return (2 * h * nu**3 / c**2) * (1 / (math.exp(h * nu / k_B / T) - 1)) / u.s**4 / u.Hz**4 / u.sr\n",
    "# Equation for the total disk mass\n",
    "def disk_mass(r, S, d, K, B):\n",
    "  return (r * S * d**2 / K / B * u.erg / u.Hz / u.s / u.sr).to(u.solMass)"
   ],
   "outputs": [],
   "metadata": {}
  },
  {
   "cell_type": "markdown",
   "source": [
    "# Define Constants\n",
    "\n",
    "Also define some useful constants, including the integrated flux, which can be found in the `data.csv` file. "
   ],
   "metadata": {}
  },
  {
   "cell_type": "code",
   "execution_count": 9,
   "source": [
    "# Flux density or Integrated flux [units: erg s^-1 cm^-2 Hz^-1]\n",
    "S = 0.00292278 * u.Jy.to(u.erg / u.s / u.cm**2 / u.Hz)\n",
    "# Distance [units: cm]\n",
    "d = 800 * u.parsec.to(u.cm)\n",
    "# Gas to dust ratio\n",
    "r = 100"
   ],
   "outputs": [],
   "metadata": {}
  },
  {
   "cell_type": "markdown",
   "source": [
    "# Calculate the Planck Function\n",
    "\n",
    "The Planck function describes the spectral density of electromagnetic radiation emitted by a blackbody in thermal equilibrium at a given temperature $T$, when there is no net flow of matter or energy between the body and its environment."
   ],
   "metadata": {}
  },
  {
   "cell_type": "code",
   "execution_count": 10,
   "source": [
    "# Planck constant [units: erg s]\n",
    "h = h.to(u.erg * u.s)\n",
    "# Boltzmann constant [units: erg K^-1]\n",
    "k_B = k_B.to(u.erg / u.K)\n",
    "# Speed of light [units: cm s^-1]\n",
    "c = c.to(u.cm / u.s)\n",
    "# Temperature [units: K]\n",
    "T = 30 * u.K\n",
    "# Frequency [units: Hz] \n",
    "nu = (233 * u.GHz).to(u.Hz)\n",
    "# Planck function [units: erg s^-1 cm^-2 Hz^-1 sr^-1]\n",
    "B = Planck_function(h, k_B, c, T, nu)"
   ],
   "outputs": [],
   "metadata": {}
  },
  {
   "cell_type": "markdown",
   "source": [
    "# Compute the Opacity\n",
    "\n",
    "Next, we calculate the dust opacities using data from Table 1 of [Ossenkopf, Henning (1994)](https://ui.adsabs.harvard.edu/abs/1994A&A...291..943O/abstract)."
   ],
   "metadata": {}
  },
  {
   "cell_type": "code",
   "execution_count": 11,
   "source": [
    "# Wavelength data [units: microns]\n",
    "x = np.array([1.00e2, 1.17e2, 1.36e2, 1.58e2, 1.85e2, 2.26e2, 3.50e2, 5.00e2, 7.00e2, 1.00e3, 1.30e3])\n",
    "# Opacity data [units: cm^2 g^-1]\n",
    "y = np.array([8.65e1, 6.75e1, 5.25e1, 4.09e1, 3.07e1, 2.17e1, 1.01e1, 5.04e0, 2.57e0, 1.37e0, 8.99e-1])"
   ],
   "outputs": [],
   "metadata": {}
  },
  {
   "cell_type": "markdown",
   "source": [
    "# Total Circumstellar Disk Mass\n",
    "\n",
    "Finally, we can compute the total circumstellar disk mass for the FUor of interest: HBC722."
   ],
   "metadata": {}
  },
  {
   "cell_type": "code",
   "execution_count": 12,
   "source": [
    "# Switching to log scale\n",
    "x_log = []\n",
    "y_log = []\n",
    "for i in range (len(x)):\n",
    "  x_log.append(math.log10(x[i]))\n",
    "for j in range (len(y)):\n",
    "  y_log.append(math.log10(y[j]))\n",
    "\n",
    "# Fitting best fit line (m: slope, c: y-intercept)\n",
    "m, c = np.polyfit(x_log, y_log, deg=1)\n",
    "\n",
    "# Converting our specific wavelength into log scale\n",
    "wavelength = nu.to(u.micron, equivalencies=u.spectral())\n",
    "wavelength_log = math.log10(wavelength / u.micron)\n",
    "\n",
    "# Solving for opacity (in log scale)\n",
    "K_log = (wavelength_log * m) + c\n",
    "\n",
    "# Opacity [units: cm^2 g^-1]\n",
    "K = 10**K_log * u.cm**2 / u.g\n",
    "\n",
    "## Calculating the total disk mass\n",
    "# Total mass [units: solar mass]\n",
    "M = disk_mass(r, S, d, K, B)\n",
    "print(\"Total mass of HBC722 disk:\", M)"
   ],
   "outputs": [
    {
     "output_type": "stream",
     "name": "stdout",
     "text": [
      "Total mass of HBC722 disk: 0.024082890859563992 solMass\n"
     ]
    }
   ],
   "metadata": {}
  },
  {
   "cell_type": "markdown",
   "source": [
    "# Conclusions\n",
    "\n",
    "We conclude that HBC722 has a circumstellar disk of approximately $0.024~\\text{M}_{\\odot}$, which is in agreement with previous results. "
   ],
   "metadata": {}
  }
 ],
 "metadata": {
  "orig_nbformat": 4,
  "language_info": {
   "name": "python",
   "version": "3.8.11",
   "mimetype": "text/x-python",
   "codemirror_mode": {
    "name": "ipython",
    "version": 3
   },
   "pygments_lexer": "ipython3",
   "nbconvert_exporter": "python",
   "file_extension": ".py"
  },
  "kernelspec": {
   "name": "python3",
   "display_name": "Python 3.8.11 64-bit ('base': conda)"
  },
  "interpreter": {
   "hash": "dca0ade3e726a953b501b15e8e990130d2b7799f14cfd9f4271676035ebe5511"
  }
 },
 "nbformat": 4,
 "nbformat_minor": 2
}